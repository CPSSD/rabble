{
 "cells": [
  {
   "cell_type": "markdown",
   "metadata": {},
   "source": [
    "# Load the dataset."
   ]
  },
  {
   "cell_type": "code",
   "execution_count": 43,
   "metadata": {
    "scrolled": false
   },
   "outputs": [],
   "source": [
    "with open(\"./datasets/football_key.tsv\") as f:\n",
    "    # Each line is of form: <country_id> <country_name>\n",
    "    def fmt(line):\n",
    "        return (int(line[0])-1, line[1].strip('\"'))\n",
    "    data_key = [fmt(line.strip().split()) for line in f if line[0] != '*']"
   ]
  },
  {
   "cell_type": "code",
   "execution_count": 44,
   "metadata": {
    "scrolled": true
   },
   "outputs": [],
   "source": [
    "with open(\"./datasets/football_pairs.tsv\") as f:\n",
    "    # Each line is of form: <country_a_id> <country_b_id> <number_of_players>\n",
    "    def fmt(pair):\n",
    "        return (int(pair[0])-1, int(pair[1])-1, 1)\n",
    "    data_pairs = [fmt(line.strip().split()) for line in f if line[0] != '*']"
   ]
  },
  {
   "cell_type": "markdown",
   "metadata": {},
   "source": [
    "# Turn into useful format\n",
    "\n",
    "Edit the `neighbours[]` below and `similarity` func below that to create a new metric."
   ]
  },
  {
   "cell_type": "code",
   "execution_count": 45,
   "metadata": {},
   "outputs": [],
   "source": [
    "neighbours = [set() for _ in range(len(data_key))]\n",
    "for p in data_pairs:\n",
    "    neighbours[p[0]].add(p[1])\n",
    "    neighbours[p[1]].add(p[0])"
   ]
  },
  {
   "cell_type": "code",
   "execution_count": 46,
   "metadata": {},
   "outputs": [],
   "source": [
    "def similarity_CN(x, y, ignore_set=None):\n",
    "    # Common neighbours\n",
    "    # x, y are indices to neighbours[]\n",
    "    if ignore_set is None:\n",
    "        ignore_set = set()\n",
    "    return len((neighbours[x] & neighbours[y]) - set(t[1] for t in ignore_set))"
   ]
  },
  {
   "cell_type": "markdown",
   "metadata": {},
   "source": [
    "# Compute similarity matrix."
   ]
  },
  {
   "cell_type": "code",
   "execution_count": 47,
   "metadata": {},
   "outputs": [],
   "source": [
    "def compute_similarities(ignore_set=None):\n",
    "    # S_CN[x][y] contains the similarity of nodes x and y using the Common Neighbours (CN) metric.\n",
    "    S_CN = [[0 for _ in range(len(data_key))] for _ in range(len(data_key))]\n",
    "    for i in range(len(data_key)-1):\n",
    "        for j in range(0, len(data_key)):\n",
    "            S_CN[i][j] = similarity_CN(i, j, ignore_set=ignore_set)\n",
    "    return S_CN\n",
    "        "
   ]
  },
  {
   "cell_type": "code",
   "execution_count": 48,
   "metadata": {},
   "outputs": [
    {
     "name": "stdout",
     "output_type": "stream",
     "text": [
      "    ARG AUT BEL BGR BRA CHE CHL CMR COL DEU DNK ESP FRA GBR GRE HRV IRN\n",
      "ARG   4,  2,  1,  1,  3,  0,  1,  2,  2,  2,  2,  2,  1,  1,  0,  2,  0\n",
      "AUT   2,  8,  3,  2,  3,  1,  1,  4,  2,  6,  4,  5,  4,  3,  1,  4,  1\n",
      "BEL   1,  3,  6,  1,  2,  1,  1,  3,  1,  5,  3,  5,  3,  3,  1,  2,  1\n",
      "BGR   1,  2,  1,  4,  2,  0,  0,  4,  1,  1,  3,  1,  1,  0,  0,  3,  1\n",
      "BRA   3,  3,  2,  2,  7,  0,  1,  5,  2,  3,  2,  3,  1,  1,  0,  2,  0\n",
      "CHE   0,  1,  1,  0,  0,  2,  0,  0,  0,  2,  0,  2,  2,  1,  0,  0,  0\n",
      "CHL   1,  1,  1,  0,  1,  0,  3,  1,  3,  2,  1,  2,  1,  2,  0,  1,  0\n",
      "CMR   2,  4,  3,  4,  5,  0,  1,  9,  2,  4,  4,  3,  3,  2,  0,  5,  1\n",
      "COL   2,  2,  1,  1,  2,  0,  3,  2,  5,  3,  2,  3,  2,  2,  0,  2,  0\n",
      "DEU   2,  6,  5,  1,  3,  2,  2,  4,  3, 19,  3, 13,  9, 10,  3,  3,  0\n",
      "DNK   2,  4,  3,  3,  2,  0,  1,  4,  2,  3,  7,  3,  3,  3,  0,  5,  1\n",
      "ESP   2,  5,  5,  1,  3,  2,  2,  3,  3, 13,  3, 18,  9,  9,  3,  3,  1\n",
      "FRA   1,  4,  3,  1,  1,  2,  1,  3,  2,  9,  3,  9, 13,  5,  1,  3,  1\n",
      "GBR   1,  3,  3,  0,  1,  1,  2,  2,  2, 10,  3,  9,  5, 12,  2,  2,  0\n",
      "GRE   0,  1,  1,  0,  0,  0,  0,  0,  0,  3,  0,  3,  1,  2,  3,  0,  0\n",
      "HRV   2,  4,  2,  3,  2,  0,  1,  5,  2,  3,  5,  3,  3,  2,  0,  6,  1\n",
      "IRN   0,  1,  1,  1,  0,  0,  0,  1,  0,  0,  1,  1,  1,  0,  0,  1,  1\n"
     ]
    }
   ],
   "source": [
    "# A quick eyeball check of a subset of the data.\n",
    "S_CN = compute_similarities()\n",
    "num_to_print = len(data_key)//2\n",
    "print(' '*4 + ' '.join(d[1] for d in data_key[:num_to_print]))\n",
    "print('\\n'.join(data_key[i][1] + ' ' + ','.join('{:>3}'.format(c) for c in S_CN[i][:num_to_print]) for i in range(num_to_print)))"
   ]
  },
  {
   "cell_type": "markdown",
   "metadata": {},
   "source": [
    "# Create test sets.\n",
    "\n",
    "Split the list of links into 10 random partitions, as the paper does, to get comparable measurements. Also create a set of all links which are not in the dataset."
   ]
  },
  {
   "cell_type": "code",
   "execution_count": 49,
   "metadata": {},
   "outputs": [
    {
     "name": "stdout",
     "output_type": "stream",
     "text": [
      "len(e) 118\n",
      "len(e)//10 = 11\n",
      "10 subsets:\n",
      "[(9, 34), (7, 17), (10, 24), (17, 34), (1, 9), (10, 13), (13, 34), (9, 25), (2, 24), (9, 23), (13, 17), (13, 18)]\n",
      "[(0, 11), (5, 34), (9, 24), (13, 32), (23, 31), (4, 8), (5, 23), (9, 12), (28, 31), (24, 28), (13, 24), (10, 31)]\n",
      "[(11, 15), (1, 11), (0, 17), (23, 34), (13, 25), (10, 29), (10, 17), (2, 28), (4, 12), (24, 34), (8, 11), (11, 23)]\n",
      "[(4, 17), (3, 11), (12, 20), (7, 26), (19, 33), (25, 29), (9, 17), (13, 33), (4, 11), (17, 21), (17, 23), (3, 31)]\n",
      "[(1, 17), (12, 33), (17, 25), (31, 34), (0, 8), (4, 26), (11, 27), (11, 21), (8, 17), (9, 30), (17, 33), (15, 31)]\n",
      "[(7, 19), (23, 24), (10, 11), (13, 29), (2, 23), (9, 28), (21, 30), (12, 34), (12, 30), (24, 32), (11, 17), (1, 12)]\n",
      "[(11, 34), (2, 12), (9, 11), (6, 17), (7, 31), (7, 12), (4, 19), (2, 9), (17, 24), (0, 6), (19, 20), (23, 32)]\n",
      "[(12, 29), (7, 9), (1, 34), (9, 10), (8, 32), (9, 21), (1, 7), (7, 14), (9, 15), (4, 27), (11, 33), (3, 9)]\n",
      "[(12, 17), (7, 11), (11, 25), (13, 28), (22, 27), (14, 25), (1, 13), (11, 28), (9, 33), (15, 17), (12, 23), (2, 17)]\n",
      "[(11, 24), (13, 15), (9, 16), (9, 32), (6, 32), (12, 21), (1, 15), (21, 26), (14, 28), (3, 26)]\n"
     ]
    }
   ],
   "source": [
    "def chunks(l, n):\n",
    "    \"\"\"Yield successive n-sized chunks from l.\"\"\"\n",
    "    for it in range(0, len(l), n):\n",
    "        yield l[it:it + n]\n",
    "        \n",
    "e = []\n",
    "predict = []\n",
    "for i in range(len(data_key)):\n",
    "    for j in range(i+1, len(data_key)):\n",
    "        if i in neighbours[j]:\n",
    "            e.append((i, j))\n",
    "        else:\n",
    "            predict.append((i, j))\n",
    "            \n",
    "# e now contains all link pairs\n",
    "# predict contains all non-existing links from the original data\n",
    "# each pair is a tuple (a, b), where a < b\n",
    "\n",
    "# We now randomly shuffle this list\n",
    "import random\n",
    "random.shuffle(e)\n",
    "\n",
    "print('len(e)', len(e))\n",
    "print('len(e)//10 =', len(e)//10)\n",
    "\n",
    "# Create e_prime, a list of 10 partitions\n",
    "e_prime = list(chunks(e, len(e)//10 + 1))\n",
    "\n",
    "# The following is a quick eyeball test to make sure the partitions look ok.\n",
    "print('10 subsets:')\n",
    "for i in range(len(e_prime)):\n",
    "    entry = e_prime[i]\n",
    "    print(entry)\n"
   ]
  },
  {
   "cell_type": "code",
   "execution_count": 54,
   "metadata": {},
   "outputs": [
    {
     "name": "stdout",
     "output_type": "stream",
     "text": [
      "\t\tn1   \tn2   \tn3   \tAUC\n",
      "Fold 1 :\t4626 \t449  \t649  \t0.847397\n",
      "Fold 2 :\t3068 \t1037 \t1619 \t0.626572\n",
      "Fold 3 :\t4223 \t646  \t855  \t0.794200\n",
      "Fold 4 :\t2559 \t1184 \t1981 \t0.550489\n",
      "Fold 5 :\t3127 \t1020 \t1577 \t0.635395\n",
      "Fold 6 :\t4170 \t641  \t913  \t0.784504\n",
      "Fold 7 :\t3210 \t965  \t1549 \t0.645091\n",
      "Fold 8 :\t3059 \t1038 \t1627 \t0.625087\n",
      "Fold 9 :\t3577 \t852  \t1295 \t0.699336\n",
      "Fold 10:\t1834 \t1083 \t1853 \t0.498008\n",
      "Average:\t3345 \t892  \t1392 \t0.670608\n"
     ]
    }
   ],
   "source": [
    "aucs = []\n",
    "n1s = []\n",
    "n2s = []\n",
    "n3s = []\n",
    "ns = []\n",
    "\n",
    "# Column headings.\n",
    "print('\\t\\tn1   \\tn2   \\tn3   \\tAUC')\n",
    "\n",
    "# Iterate across the 10 folds.\n",
    "for i in range(10):\n",
    "    test = e_prime[i]\n",
    "    S_CN = compute_similarities(ignore_set=None)\n",
    "    \n",
    "    n1 = 0 # missing_link > nonexistant_link\n",
    "    n2 = 0 # missing_link = nonexistant_link\n",
    "    n3 = 0 # missing_link < nonexistant_link\n",
    "    n = 0 # total link comparisons\n",
    "    for missing_link in test:\n",
    "        a_score = S_CN[missing_link[0]][missing_link[1]]\n",
    "        for nonexistant_link in predict:\n",
    "            b_score = S_CN[nonexistant_link[0]][nonexistant_link[1]]\n",
    "            if abs(a_score-b_score) < 0.0005:\n",
    "                n2 += 1\n",
    "            elif a_score > b_score:\n",
    "                n1 += 1\n",
    "            else:\n",
    "                n3 += 1\n",
    "            n += 1\n",
    "    auc = (n1 + 0.5*n2)/(n)\n",
    "    aucs.append(auc)\n",
    "    n1s.append(n1)\n",
    "    n2s.append(n2)\n",
    "    n3s.append(n3)\n",
    "    ns.append(n)\n",
    "    print('Fold {:<2}:\\t{:<5}\\t{:<5}\\t{:<5}\\t{:<.6f}'.format(i+1, n1, n2, n3, auc))\n",
    "\n",
    "def avg(seq):\n",
    "    return sum(seq)/len(seq)\n",
    "\n",
    "print('Average:\\t{:<5}\\t{:<5}\\t{:<5}\\t{:<.6f}'.format(int(round(avg(n1s))), int(round(avg(n2s))), int(round(avg(n3s))), avg(aucs)))"
   ]
  },
  {
   "cell_type": "code",
   "execution_count": null,
   "metadata": {},
   "outputs": [],
   "source": []
  },
  {
   "cell_type": "code",
   "execution_count": null,
   "metadata": {},
   "outputs": [],
   "source": []
  }
 ],
 "metadata": {
  "kernelspec": {
   "display_name": "Python 3",
   "language": "python",
   "name": "python3"
  },
  "language_info": {
   "codemirror_mode": {
    "name": "ipython",
    "version": 3
   },
   "file_extension": ".py",
   "mimetype": "text/x-python",
   "name": "python",
   "nbconvert_exporter": "python",
   "pygments_lexer": "ipython3",
   "version": "3.6.7"
  }
 },
 "nbformat": 4,
 "nbformat_minor": 2
}
