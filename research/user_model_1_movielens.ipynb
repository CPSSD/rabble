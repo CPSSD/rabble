{
 "cells": [
  {
   "cell_type": "markdown",
   "metadata": {},
   "source": [
    "# Load the dataset"
   ]
  },
  {
   "cell_type": "code",
   "execution_count": null,
   "metadata": {},
   "outputs": [],
   "source": [
    "with open(\"./datasets/ml-latest-small/movies.csv\") as f:\n",
    "    # Each line is of form: <movieId>,<title>,<genres>\n",
    "    movies = {}\n",
    "    for line in f:\n",
    "        split_line = line.strip().split(\",\")\n",
    "        \n",
    "        movies[split_line[0]] = {\n",
    "            \"name\": split_line[1],\n",
    "            \"tags\": split_line[2].split(\"|\"),\n",
    "        }\n",
    "    # first line in file\n",
    "    del movies[\"movieId\"]"
   ]
  },
  {
   "cell_type": "code",
   "execution_count": 9,
   "metadata": {},
   "outputs": [],
   "source": [
    "with open(\"./datasets/ml-latest-small/tags.csv\") as f:\n",
    "    # Each line is of form: <userId>,<movieId>,<tag>,<timestamp>\n",
    "    # We will only use <movieId>,<tag>\n",
    "    for line in f:\n",
    "        split_line = line.strip().split(\",\")\n",
    "        if split_line[0] == \"userId\":\n",
    "            continue\n",
    "        movies[split_line[1]][\"tags\"].append(split_line[2])"
   ]
  },
  {
   "cell_type": "code",
   "execution_count": 11,
   "metadata": {},
   "outputs": [],
   "source": [
    "with open(\"./datasets/ml-latest-small/ratings.csv\") as f:\n",
    "    # Each line is of form: <userId>,<movieId>,<rating>,<timestamp>\n",
    "    # We will only use <userId>,<movieId>,<rating>\n",
    "    users = {}\n",
    "    for line in f:\n",
    "        split_line = line.strip().split(\",\")\n",
    "        if split_line[0] == \"userId\":\n",
    "            continue\n",
    "        \n",
    "        if split_line[0] not in users:\n",
    "            users[split_line[0]] = {\n",
    "                \"pos\": [],\n",
    "                \"neg\": [],\n",
    "            }\n",
    "        \n",
    "        # Assume all ratings above 2.5 (scale 0.5 -> 5) are positive\n",
    "        # We will convert ratings to binary (like/dislike) as that is the ratings used in rabble\n",
    "        if split_line[2] > \"2.5\":\n",
    "            users[split_line[0]][\"pos\"].append(split_line[1])\n",
    "        else:\n",
    "            users[split_line[0]][\"neg\"].append(split_line[1])\n",
    "        \n",
    "        "
   ]
  },
  {
   "cell_type": "markdown",
   "metadata": {},
   "source": [
    "# Seperate training and test data\n",
    "- Each user has rated at least 20 movies. However as rabble only takes positive input we will only use the positive scores to train the user model\n",
    "- So we will train with roughly 3/4 of the positive ratings and test with the 1/4 positive and all the negative ratings"
   ]
  },
  {
   "cell_type": "code",
   "execution_count": 18,
   "metadata": {},
   "outputs": [],
   "source": [
    "for u in users.keys():\n",
    "    cutoff = (len(users[u][\"pos\"]) * 3) // 4\n",
    "    users[u][\"train\"] = users[u][\"pos\"][:cutoff]\n",
    "    users[u][\"test\"] = users[u][\"pos\"][cutoff:]"
   ]
  },
  {
   "cell_type": "markdown",
   "metadata": {},
   "source": [
    "# Create User Models"
   ]
  },
  {
   "cell_type": "code",
   "execution_count": 13,
   "metadata": {},
   "outputs": [],
   "source": [
    "pass"
   ]
  },
  {
   "cell_type": "markdown",
   "metadata": {},
   "source": [
    "# Similarity function"
   ]
  },
  {
   "cell_type": "code",
   "execution_count": 15,
   "metadata": {},
   "outputs": [],
   "source": [
    "pass"
   ]
  },
  {
   "cell_type": "markdown",
   "metadata": {},
   "source": [
    "# Evaluate"
   ]
  },
  {
   "cell_type": "code",
   "execution_count": 16,
   "metadata": {},
   "outputs": [],
   "source": [
    "pass"
   ]
  },
  {
   "cell_type": "code",
   "execution_count": null,
   "metadata": {},
   "outputs": [],
   "source": []
  }
 ],
 "metadata": {
  "kernelspec": {
   "display_name": "Python 3",
   "language": "python",
   "name": "python3"
  },
  "language_info": {
   "codemirror_mode": {
    "name": "ipython",
    "version": 3
   },
   "file_extension": ".py",
   "mimetype": "text/x-python",
   "name": "python",
   "nbconvert_exporter": "python",
   "pygments_lexer": "ipython3",
   "version": "3.6.7"
  }
 },
 "nbformat": 4,
 "nbformat_minor": 2
}
