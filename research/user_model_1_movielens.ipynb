{
 "cells": [
  {
   "cell_type": "code",
   "execution_count": 1,
   "metadata": {},
   "outputs": [],
   "source": [
    "import random"
   ]
  },
  {
   "cell_type": "markdown",
   "metadata": {},
   "source": [
    "# Load the dataset"
   ]
  },
  {
   "cell_type": "code",
   "execution_count": 2,
   "metadata": {},
   "outputs": [],
   "source": [
    "with open(\"./datasets/ml-latest-small/movies.csv\") as f:\n",
    "    # Each line is of form: <movieId>,<title>,<genres>\n",
    "    movies = {}\n",
    "    for line in f:\n",
    "        split_line = line.strip().split(\",\")\n",
    "        \n",
    "        movies[split_line[0]] = {\n",
    "            \"name\": split_line[1],\n",
    "            \"tags\": set(split_line[2].split(\"|\")),\n",
    "        }\n",
    "    # first line in file\n",
    "    del movies[\"movieId\"]"
   ]
  },
  {
   "cell_type": "code",
   "execution_count": 3,
   "metadata": {},
   "outputs": [],
   "source": [
    "with open(\"./datasets/ml-latest-small/tags.csv\") as f:\n",
    "    # Each line is of form: <userId>,<movieId>,<tag>,<timestamp>\n",
    "    # We will only use <movieId>,<tag>\n",
    "    for line in f:\n",
    "        split_line = line.strip().split(\",\")\n",
    "        if split_line[0] == \"userId\":\n",
    "            continue\n",
    "        movies[split_line[1]][\"tags\"].add(split_line[2])"
   ]
  },
  {
   "cell_type": "code",
   "execution_count": 26,
   "metadata": {},
   "outputs": [],
   "source": [
    "with open(\"./datasets/ml-latest-small/ratings.csv\") as f:\n",
    "    # Each line is of form: <userId>,<movieId>,<rating>,<timestamp>\n",
    "    # We will only use <userId>,<movieId>,<rating>\n",
    "    users = {}\n",
    "    sum_ratings = 0\n",
    "    amount_ratings = 0\n",
    "    lines = f.readlines()\n",
    "    for line in lines:\n",
    "        split_line = line.strip().split(\",\")\n",
    "        if split_line[0] == \"userId\":\n",
    "            continue\n",
    "        sum_ratings += float(split_line[2])\n",
    "        amount_ratings += 1\n",
    "    split = str(sum_ratings / amount_ratings)\n",
    "    for line in lines:\n",
    "        split_line = line.strip().split(\",\")\n",
    "        if split_line[0] == \"userId\":\n",
    "            continue\n",
    "        \n",
    "        if split_line[0] not in users:\n",
    "            users[split_line[0]] = {\n",
    "                \"pos\": [],\n",
    "                \"neg\": [],\n",
    "            }\n",
    "        \n",
    "        # Assume all ratings above mean (3.501 for this dataset) (scale 0.5 -> 5) are positive\n",
    "        # We will convert ratings to binary (like/dislike) as that is the ratings used in rabble\n",
    "        if split_line[2] >= split:\n",
    "            users[split_line[0]][\"pos\"].append(split_line[1])\n",
    "        else:\n",
    "            users[split_line[0]][\"neg\"].append(split_line[1])    "
   ]
  },
  {
   "cell_type": "markdown",
   "metadata": {},
   "source": [
    "# Seperate training and test data\n",
    "- Each user has rated at least 20 movies. However as rabble only takes positive input we will only use the positive scores to train the user model\n",
    "- So we will train with roughly 3/4 of the positive ratings and test with the 1/4 positive and all the negative ratings"
   ]
  },
  {
   "cell_type": "code",
   "execution_count": 27,
   "metadata": {},
   "outputs": [],
   "source": [
    "for u in users.keys():\n",
    "    cutoff = (len(users[u][\"pos\"]) * 3) // 4\n",
    "    shuffled_pos_ratings = users[u][\"pos\"]\n",
    "    random.shuffle(shuffled_pos_ratings)\n",
    "    users[u][\"train\"] = shuffled_pos_ratings[:cutoff]\n",
    "    users[u][\"test\"] = shuffled_pos_ratings[cutoff:]"
   ]
  },
  {
   "cell_type": "markdown",
   "metadata": {},
   "source": [
    "# Create User Models"
   ]
  },
  {
   "cell_type": "code",
   "execution_count": 28,
   "metadata": {},
   "outputs": [],
   "source": [
    "pass"
   ]
  },
  {
   "cell_type": "markdown",
   "metadata": {},
   "source": [
    "# Similarity function"
   ]
  },
  {
   "cell_type": "code",
   "execution_count": 29,
   "metadata": {},
   "outputs": [],
   "source": [
    "pass"
   ]
  },
  {
   "cell_type": "markdown",
   "metadata": {},
   "source": [
    "# Evaluate"
   ]
  },
  {
   "cell_type": "code",
   "execution_count": 30,
   "metadata": {},
   "outputs": [],
   "source": [
    "pass"
   ]
  },
  {
   "cell_type": "code",
   "execution_count": null,
   "metadata": {},
   "outputs": [],
   "source": []
  }
 ],
 "metadata": {
  "kernelspec": {
   "display_name": "Python 3",
   "language": "python",
   "name": "python3"
  },
  "language_info": {
   "codemirror_mode": {
    "name": "ipython",
    "version": 3
   },
   "file_extension": ".py",
   "mimetype": "text/x-python",
   "name": "python",
   "nbconvert_exporter": "python",
   "pygments_lexer": "ipython3",
   "version": "3.6.7"
  }
 },
 "nbformat": 4,
 "nbformat_minor": 2
}
