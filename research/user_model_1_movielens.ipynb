{
 "cells": [
  {
   "cell_type": "code",
   "execution_count": 7,
   "metadata": {},
   "outputs": [],
   "source": [
    "with open(\"./datasets/ml-latest-small/movies.csv\") as f:\n",
    "    # Each line is of form: <movieId>,<title>,<genres>\n",
    "    movies = {}\n",
    "    for line in f:\n",
    "        split_line = line.strip().split(\",\")\n",
    "        \n",
    "        movies[split_line[0]] = {\n",
    "            \"name\": split_line[1],\n",
    "            \"tags\": split_line[2].split(\"|\"),\n",
    "        }\n",
    "    # first line in file\n",
    "    del movies[\"movieId\"]"
   ]
  },
  {
   "cell_type": "code",
   "execution_count": 9,
   "metadata": {},
   "outputs": [],
   "source": [
    "with open(\"./datasets/ml-latest-small/tags.csv\") as f:\n",
    "    # Each line is of form: <userId>,<movieId>,<tag>,<timestamp>\n",
    "    # We will only use <movieId>,<tag>\n",
    "    for line in f:\n",
    "        split_line = line.strip().split(\",\")\n",
    "        if split_line[0] == \"userId\":\n",
    "            continue\n",
    "        movies[split_line[1]][\"tags\"].append(split_line[2])"
   ]
  },
  {
   "cell_type": "code",
   "execution_count": null,
   "metadata": {},
   "outputs": [],
   "source": [
    "with open(\"./datasets/ml-latest-small/rating.csv\") as f:\n",
    "    # Each line is of form: <userId>,<movieId>,<rating>,<timestamp>\n",
    "    # We will only use <userId>,<movieId>,<rating>\n",
    "    users = {}\n",
    "    for line in f:\n",
    "        split_line = line.strip().split(\",\")\n",
    "        if split_line[0] == \"userId\":\n",
    "            continue\n",
    "        \n",
    "        if split_line[0] not in users:\n",
    "            users[split_line[0]] = {\n",
    "                \"positives\": [],\n",
    "                \"negatives\": [],\n",
    "            }\n",
    "        \n",
    "        # Assume all ratings above 2.5 (scale 0.5 -> 5) are positive\n",
    "        if split_line[2] > \"2.5\":\n",
    "            users[split_line[0]][\"positives\"].append(split_line[1])\n",
    "        else:\n",
    "            users[split_line[0]][\"positives\"].append(split_line[1])\n",
    "        \n",
    "        "
   ]
  }
 ],
 "metadata": {
  "kernelspec": {
   "display_name": "Python 3",
   "language": "python",
   "name": "python3"
  },
  "language_info": {
   "codemirror_mode": {
    "name": "ipython",
    "version": 3
   },
   "file_extension": ".py",
   "mimetype": "text/x-python",
   "name": "python",
   "nbconvert_exporter": "python",
   "pygments_lexer": "ipython3",
   "version": "3.6.7"
  }
 },
 "nbformat": 4,
 "nbformat_minor": 2
}
