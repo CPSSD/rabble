{
 "cells": [
  {
   "cell_type": "code",
   "execution_count": null,
   "metadata": {},
   "outputs": [],
   "source": [
    "import random\n",
    "import pprint\n",
    "import math\n",
    "from collections import defaultdict"
   ]
  },
  {
   "cell_type": "markdown",
   "metadata": {},
   "source": [
    "# Load the dataset"
   ]
  },
  {
   "cell_type": "code",
   "execution_count": null,
   "metadata": {},
   "outputs": [],
   "source": [
    "# record tag frequency across the dataset\n",
    "movie_tag_freq = defaultdict(set)\n",
    "user_tag_freq = defaultdict(set)"
   ]
  },
  {
   "cell_type": "code",
   "execution_count": null,
   "metadata": {},
   "outputs": [],
   "source": [
    "with open(\"./datasets/ml-latest-small/movies.csv\") as f:\n",
    "    # Each line is of form: <movieId>,<title>,<genres>\n",
    "    movies = {}\n",
    "    for line in f:\n",
    "        split_line = line.strip().split(\",\")\n",
    "        title = split_line[1]\n",
    "        tags = defaultdict(int)\n",
    "        tag_list = split_line[2].split(\"|\")\n",
    "        \n",
    "        # Some movie titles have a comma in them :(\n",
    "        if len(split_line) >= 4:\n",
    "            for i in range(2,len(split_line) - 1):\n",
    "                title += \",\" + split_line[i]\n",
    "            tag_list = split_line[-1].split(\"|\")\n",
    "        \n",
    "        \n",
    "        for tag in tag_list:\n",
    "            tags[tag.lower()] += 1\n",
    "            movie_tag_freq[tag.lower()].add(split_line[0])\n",
    "        \n",
    "        movies[split_line[0]] = {\n",
    "            \"name\": title,\n",
    "            \"tags\": tags,\n",
    "        }\n",
    "    # first line in file\n",
    "    del movies[\"movieId\"]"
   ]
  },
  {
   "cell_type": "code",
   "execution_count": null,
   "metadata": {},
   "outputs": [],
   "source": [
    "with open(\"./datasets/ml-latest-small/tags.csv\") as f:\n",
    "    # Each line is of form: <userId>,<movieId>,<tag>,<timestamp>\n",
    "    # We will only use <movieId>,<tag>\n",
    "    for line in f:\n",
    "        split_line = line.strip().split(\",\")\n",
    "        if split_line[0] == \"userId\":\n",
    "            continue\n",
    "        tag = split_line[2].lower()\n",
    "        movies[split_line[1]][\"tags\"][tag] += 1\n",
    "        movie_tag_freq[tag].add(split_line[0])"
   ]
  },
  {
   "cell_type": "markdown",
   "metadata": {},
   "source": [
    "For the ratings datset, we have to convert it to appear similar to rabble data. In this case we need to have input similar to rabble 'Likes'. To get this we:\n",
    "- Assume all ratings above `split` (scale 0.5 -> 5) are positive\n",
    "- `split` is the mean rating in the dataset"
   ]
  },
  {
   "cell_type": "code",
   "execution_count": null,
   "metadata": {},
   "outputs": [],
   "source": [
    "with open(\"./datasets/ml-latest-small/ratings.csv\") as f:\n",
    "    # Each line is of form: <userId>,<movieId>,<rating>,<timestamp>\n",
    "    # We will only use <userId>,<movieId>,<rating>\n",
    "    users = {}\n",
    "    sum_ratings = 0\n",
    "    amount_ratings = 0\n",
    "    lines = f.readlines()\n",
    "    for line in lines:\n",
    "        split_line = line.strip().split(\",\")\n",
    "        if split_line[0] == \"userId\":\n",
    "            continue\n",
    "        sum_ratings += float(split_line[2])\n",
    "        amount_ratings += 1\n",
    "    split = str(sum_ratings / amount_ratings)\n",
    "    for line in lines:\n",
    "        split_line = line.strip().split(\",\")\n",
    "        if split_line[0] == \"userId\":\n",
    "            continue\n",
    "        \n",
    "        if split_line[0] not in users:\n",
    "            users[split_line[0]] = {\n",
    "                \"pos\": [],\n",
    "                \"neg\": [],\n",
    "            }\n",
    "        \n",
    "        # We will convert ratings to binary (like/dislike) as that is the ratings used in rabble\n",
    "        # Assume all ratings above 'split' (scale 0.5 -> 5) are positive\n",
    "        # 'split' is the mean (3.501 for this dataset) rating\n",
    "        if split_line[2] >= split:\n",
    "            users[split_line[0]][\"pos\"].append(split_line[1])\n",
    "        else:\n",
    "            users[split_line[0]][\"neg\"].append(split_line[1])    "
   ]
  },
  {
   "cell_type": "markdown",
   "metadata": {},
   "source": [
    "#### A quick eyeball check of a movie object"
   ]
  },
  {
   "cell_type": "code",
   "execution_count": null,
   "metadata": {},
   "outputs": [],
   "source": [
    "pp = pprint.PrettyPrinter(indent=4)\n",
    "random_movie_pos = random.randrange(len(movies))\n",
    "random_movie_id = [x for x in movies.keys()][random_movie_pos]\n",
    "print(random_movie_id, end=\" \")\n",
    "pp.pprint(movies[random_movie_id])"
   ]
  },
  {
   "cell_type": "markdown",
   "metadata": {},
   "source": [
    "# Seperate training and test data\n",
    "- Each user has rated at least 20 movies. However as rabble only takes positive input we will only use the positive scores to train the user model\n",
    "- So we will train with roughly 3/4 of the positive ratings and test with the 1/4 positive and all the negative ratings"
   ]
  },
  {
   "cell_type": "code",
   "execution_count": null,
   "metadata": {},
   "outputs": [],
   "source": [
    "for u in users.keys():\n",
    "    cutoff = (len(users[u][\"pos\"]) * 3) // 4\n",
    "    shuffled_pos_ratings = users[u][\"pos\"]\n",
    "    random.shuffle(shuffled_pos_ratings)\n",
    "    users[u][\"train\"] = shuffled_pos_ratings[:cutoff]\n",
    "    users[u][\"test\"] = shuffled_pos_ratings[cutoff:]"
   ]
  },
  {
   "cell_type": "markdown",
   "metadata": {},
   "source": [
    "# Create User Models"
   ]
  },
  {
   "cell_type": "markdown",
   "metadata": {},
   "source": [
    "Create simple user model by adding any tags related to liked movies to a 'model' dictionary. Every time that tag is seen, the counter related to it is increased. "
   ]
  },
  {
   "cell_type": "code",
   "execution_count": null,
   "metadata": {},
   "outputs": [],
   "source": [
    "for u in users.keys():\n",
    "    users[u][\"model\"] = defaultdict(int)\n",
    "    for movieId in users[u][\"train\"]:\n",
    "        for tag in movies[movieId][\"tags\"].keys():\n",
    "            user_tag_freq[tag].add(u)\n",
    "            users[u][\"model\"][tag] += 1"
   ]
  },
  {
   "cell_type": "markdown",
   "metadata": {},
   "source": [
    "####  A quick eyeball check of a model"
   ]
  },
  {
   "cell_type": "code",
   "execution_count": null,
   "metadata": {},
   "outputs": [],
   "source": [
    "pp = pprint.PrettyPrinter(indent=4)\n",
    "random_user_id = str(random.randrange(len(users)))\n",
    "print(random_user_id, end=\" \")\n",
    "pp.pprint(users[random_user_id])"
   ]
  },
  {
   "cell_type": "markdown",
   "metadata": {},
   "source": [
    "# Similarity function"
   ]
  },
  {
   "cell_type": "markdown",
   "metadata": {},
   "source": [
    "Calculate similarity based on `TF Cosine-based Similarity` method described in Content-based Recommendation in Social Tagging Systems (4.2) [link](https://dl.acm.org/citation.cfm?id=1864756)"
   ]
  },
  {
   "cell_type": "code",
   "execution_count": null,
   "metadata": {},
   "outputs": [],
   "source": [
    "def tf_cosine_similarity(user_model, movie_tags):\n",
    "    sum_user_item_tf = 0\n",
    "    sum_user_tf = 0\n",
    "    sum_item_tf = 0\n",
    "    tag_amount = 0\n",
    "    for tag in movie_tags.keys():\n",
    "        sum_user_item_tf += user_model[tag] * movie_tags[tag]\n",
    "        sum_user_tf += user_model[tag] ** 2\n",
    "        sum_item_tf += movie_tags[tag] ** 2\n",
    "        tag_amount += 1\n",
    "    divisor = (((sum_user_tf) ** 0.5) * ((sum_item_tf) ** 0.5))\n",
    "    if divisor == 0:\n",
    "        return 0\n",
    "    tf_cosine = sum_user_item_tf / divisor\n",
    "    return tf_cosine"
   ]
  },
  {
   "cell_type": "markdown",
   "metadata": {},
   "source": [
    "Calculate similarity based on `TF-IDF Cosine-based Similarity` method describe in Content-based Recommendation in Social Tagging Systems (4.3) [link](https://dl.acm.org/citation.cfm?id=1864756)"
   ]
  },
  {
   "cell_type": "markdown",
   "metadata": {},
   "source": [
    "Calculate `User-based inverse tag frequency` and `Item-based inverse tag frequency` using `tag_freq`"
   ]
  },
  {
   "cell_type": "code",
   "execution_count": null,
   "metadata": {},
   "outputs": [],
   "source": [
    "def calculate_based_itf(tag_freq, N, b_itfs):\n",
    "    for key in tag_freq.keys():\n",
    "        occurance = len(tag_freq[key])\n",
    "        b_itf = math.log(N / occurance)\n",
    "        b_itfs[key] = b_itf\n",
    "\n",
    "movie_amount = len(movies)\n",
    "user_amount = len(users)\n",
    "user_ifs = defaultdict(int)\n",
    "movie_ifs = defaultdict(int)\n",
    "\n",
    "calculate_based_itf(movie_tag_freq, len(movies), movie_ifs)\n",
    "calculate_based_itf(user_tag_freq, len(users), user_ifs)"
   ]
  },
  {
   "cell_type": "code",
   "execution_count": null,
   "metadata": {},
   "outputs": [],
   "source": [
    "def tf_idf_cosine_similarity(user_model, movie_tags):\n",
    "    sum_user_item_tf = 0\n",
    "    sum_user_tf = 0\n",
    "    sum_item_tf = 0\n",
    "    tag_amount = 0\n",
    "    for tag in movie_tags.keys():\n",
    "        sum_user_item_tf += user_model[tag] * user_ifs[tag] * movie_tags[tag] * movie_ifs[tag]\n",
    "        sum_user_tf += (user_model[tag] * user_ifs[tag]) ** 2\n",
    "        sum_item_tf += (movie_tags[tag] * movie_ifs[tag])** 2\n",
    "        tag_amount += 1\n",
    "    divisor = (((sum_user_tf) ** 0.5) * ((sum_item_tf) ** 0.5))\n",
    "    if divisor == 0:\n",
    "        return 0\n",
    "    tf_cosine = sum_user_item_tf / divisor\n",
    "    return tf_cosine"
   ]
  },
  {
   "cell_type": "markdown",
   "metadata": {},
   "source": [
    "#### Eyeball similarity"
   ]
  },
  {
   "cell_type": "code",
   "execution_count": null,
   "metadata": {},
   "outputs": [],
   "source": [
    "rand_u_model = users[random_user_id][\"model\"]\n",
    "rand_u_train = users[random_user_id][\"train\"]\n",
    "rand_u_test = users[random_user_id][\"test\"]\n",
    "rand_u_neg = users[random_user_id][\"neg\"]\n",
    "pos_train = movies[rand_u_train[random.randrange(len(rand_u_train))]]\n",
    "pos_test = movies[rand_u_test[random.randrange(len(rand_u_test))]]\n",
    "neg_movie = movies[rand_u_neg[random.randrange(len(rand_u_neg))]]\n",
    "print(pos_train)\n",
    "print(pos_test)\n",
    "print(neg_movie)\n",
    "\n",
    "\n",
    "print(\"TF Similarity\")\n",
    "# pos result\n",
    "print(tf_cosine_similarity(rand_u_model, pos_train[\"tags\"]))\n",
    "print(tf_cosine_similarity(rand_u_model, pos_test[\"tags\"]))\n",
    "# negative\n",
    "print(tf_cosine_similarity(rand_u_model, neg_movie[\"tags\"]))\n",
    "\n",
    "print(\"TF-IDF Similarity\")\n",
    "# pos result\n",
    "print(tf_idf_cosine_similarity(rand_u_model, pos_train[\"tags\"]))\n",
    "print(tf_idf_cosine_similarity(rand_u_model, pos_test[\"tags\"]))\n",
    "# negative\n",
    "print(tf_idf_cosine_similarity(rand_u_model, neg_movie[\"tags\"]))"
   ]
  },
  {
   "cell_type": "markdown",
   "metadata": {},
   "source": [
    "# Evaluate"
   ]
  },
  {
   "cell_type": "markdown",
   "metadata": {},
   "source": [
    "Evaluating based on chapter `3.2.2 Measuring Usage Prediction` in [Recommender Systems Handbook](https://link.springer.com/chapter/10.1007/978-0-387-85820-3_8). Can be gotten [here](http://scholar.google.com/scholar_url?url=http://citeseerx.ist.psu.edu/viewdoc/download%3Fdoi%3D10.1.1.712.4138%26rep%3Drep1%26type%3Dpdf&hl=en&sa=X&scisig=AAGBfm1BpCg0RTunNpmouOfrHuNPul-3NQ&nossl=1&oi=scholarr).\n",
    "\n",
    "Evaluation metric chosen is area under the Receiving Operator Characteristic curve, as in @iandioch's research."
   ]
  },
  {
   "cell_type": "code",
   "execution_count": null,
   "metadata": {},
   "outputs": [],
   "source": [
    "aucs = []\n",
    "n1s = []\n",
    "n2s = []\n",
    "n3s = []\n",
    "ns = []\n",
    "\n",
    "# Column headings.\n",
    "print('\\t\\tn1   \\tn2   \\tn3   \\tAUC')\n",
    "\n",
    "t = 0\n",
    "for u in users.keys():\n",
    "    # Code based on @iandioch's common neighbours research\n",
    "    model = users[u][\"model\"]\n",
    "\n",
    "    n1 = 0 # missing_pos > neg\n",
    "    n2 = 0 # missing_pos = neg\n",
    "    n3 = 0 # missing_pos < neg\n",
    "    n = 0 # total link comparisons\n",
    "    for missing_pos_id in users[u][\"test\"]:\n",
    "        a_score = tf_idf_cosine_similarity(model, movies[missing_pos_id][\"tags\"])\n",
    "        for neg_id in users[u][\"neg\"]:\n",
    "            b_score = tf_idf_cosine_similarity(model, movies[neg_id][\"tags\"])\n",
    "            if abs(a_score-b_score) < 0.0005:\n",
    "                n2 += 1\n",
    "            elif a_score > b_score:\n",
    "                n1 += 1\n",
    "            else:\n",
    "                n3 += 1\n",
    "            n += 1\n",
    "    # Check if there were any comparisons.\n",
    "    # If not ignore this user model as they have no dislikes/ likes\n",
    "    if n > 0:\n",
    "        auc = (n1 + 0.5*n2)/(n)\n",
    "        aucs.append(auc)\n",
    "        n1s.append(n1)\n",
    "        n2s.append(n2)\n",
    "        n3s.append(n3)\n",
    "        ns.append(n)\n",
    "    \n",
    "    t += 1\n",
    "    # Eye ball some per user examples\n",
    "    if t <= 5:\n",
    "        print('UserID {:<2}:\\t{:<5}\\t{:<5}\\t{:<5}\\t{:<.6f}'.format(u, n1, n2, n3, auc))\n",
    "\n",
    "def avg(seq):\n",
    "    return sum(seq)/len(seq)\n",
    "\n",
    "print('Average:\\t{:<5}\\t{:<5}\\t{:<5}\\t{:<.6f}'.format(int(round(avg(n1s))), int(round(avg(n2s))), int(round(avg(n3s))), avg(aucs)))"
   ]
  },
  {
   "cell_type": "code",
   "execution_count": null,
   "metadata": {},
   "outputs": [],
   "source": []
  }
 ],
 "metadata": {
  "kernelspec": {
   "display_name": "Python 3",
   "language": "python",
   "name": "python3"
  },
  "language_info": {
   "codemirror_mode": {
    "name": "ipython",
    "version": 3
   },
   "file_extension": ".py",
   "mimetype": "text/x-python",
   "name": "python",
   "nbconvert_exporter": "python",
   "pygments_lexer": "ipython3",
   "version": "3.6.7"
  }
 },
 "nbformat": 4,
 "nbformat_minor": 2
}
